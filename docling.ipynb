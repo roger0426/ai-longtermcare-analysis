{
 "cells": [
  {
   "cell_type": "markdown",
   "metadata": {},
   "source": [
    "#### inital experience"
   ]
  },
  {
   "cell_type": "code",
   "execution_count": null,
   "metadata": {},
   "outputs": [],
   "source": [
    "from docling.document_converter import DocumentConverter\n",
    "file_name = '嘉市個案評估+照顧計畫1'\n",
    "source = f\"./data/{file_name}.pdf\"\n",
    "converter = DocumentConverter()\n",
    "result = converter.convert(source)\n",
    "print(result.document.export_to_markdown())"
   ]
  },
  {
   "cell_type": "code",
   "execution_count": null,
   "metadata": {},
   "outputs": [],
   "source": [
    "from docling.datamodel.base_models import ConversionStatus, InputFormat\n",
    "from docling.datamodel.pipeline_options import PdfPipelineOptions, EasyOcrOptions, TesseractOcrOptions\n",
    "from docling.document_converter import PdfFormatOption, DocumentConverter\n",
    "\n",
    "pipeline_options = PdfPipelineOptions(do_ocr = True, ocr_options = EasyOcrOptions(lang=[\"ch_tra\",\"en\"]))\n",
    "\n",
    "pdfFormatOption = PdfFormatOption(pipeline_options=pipeline_options)\n",
    "\n",
    "doc_converter = DocumentConverter(\n",
    "    format_options={InputFormat.PDF: pdfFormatOption}\n",
    ")\n",
    "\n",
    "file_name = '嘉市個案評估+照顧計畫1'\n",
    "# file_name = '管理評估量表'\n",
    "source = f\"./data/{file_name}.pdf\"\n",
    "result = doc_converter.convert(source)\n",
    "print(result.document.export_to_markdown())\n",
    "with open(f'results/docling_{file_name}.md', 'w') as f:\n",
    "    f.write(result.document.export_to_markdown())"
   ]
  }
 ],
 "metadata": {
  "kernelspec": {
   "display_name": "ai-longtermcare",
   "language": "python",
   "name": "python3"
  },
  "language_info": {
   "codemirror_mode": {
    "name": "ipython",
    "version": 3
   },
   "file_extension": ".py",
   "mimetype": "text/x-python",
   "name": "python",
   "nbconvert_exporter": "python",
   "pygments_lexer": "ipython3",
   "version": "3.11.0"
  }
 },
 "nbformat": 4,
 "nbformat_minor": 2
}
