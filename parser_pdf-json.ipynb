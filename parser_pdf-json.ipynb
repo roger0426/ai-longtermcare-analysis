{
 "cells": [
  {
   "cell_type": "markdown",
   "metadata": {},
   "source": [
    "### Parse data from text-based pdf file\n",
    "1. pdf to docx: pdf2docx\n",
    "2. docx to json: handcraft python program\n",
    "\n",
    "Author: Roger"
   ]
  },
  {
   "cell_type": "markdown",
   "metadata": {},
   "source": [
    "#### .pdf to .docx"
   ]
  },
  {
   "cell_type": "code",
   "execution_count": null,
   "metadata": {},
   "outputs": [],
   "source": [
    "from pdf2docx import Converter\n",
    "\n",
    "file_name = '嘉市個案評估+照顧計畫1'\n",
    "\n",
    "pdf_file = f'./data/{file_name}.pdf'\n",
    "docx_file = f'./results/pdf2docx_{file_name}.docx'\n",
    "\n",
    "# convert pdf to docx\n",
    "cv = Converter(pdf_file)\n",
    "cv.convert(docx_file)\n",
    "cv.close()"
   ]
  },
  {
   "cell_type": "markdown",
   "metadata": {},
   "source": [
    "#### table in .docx to json"
   ]
  },
  {
   "cell_type": "code",
   "execution_count": null,
   "metadata": {},
   "outputs": [],
   "source": [
    "from docx import Document, table\n",
    "import json\n",
    "\n",
    "def extract_cell_value(celldata):\n",
    "    if celldata.tables:\n",
    "        cell_data = []\n",
    "        for table in celldata.tables:\n",
    "            for row_idx, row in enumerate(table.rows):\n",
    "                for col_idx, cell in enumerate(row.cells):\n",
    "                    cell_text = cell.text.strip()\n",
    "                    cell_data.append(cell_text)\n",
    "        return cell_data\n",
    "    else:\n",
    "        return [celldata.text.replace('\\n', '').strip()]\n",
    "\n",
    "def doc_tables_to_dict(doc_path):\n",
    "    doc = Document(doc_path)\n",
    "    all_data = []\n",
    "    \n",
    "    # TODO:\n",
    "    # check image in doc and do OCR\n",
    "    \n",
    "    # parse data from tables\n",
    "    for table in doc.tables:\n",
    "        table_data = {}\n",
    "        for row in table.rows:\n",
    "            if len(row.cells) % 2 == 1:\n",
    "                print('Column counts WARNING')\n",
    "                pass\n",
    "            else:\n",
    "                for i in range(0, len(row.cells), 2):\n",
    "                    key = extract_cell_value(row.cells[i])\n",
    "                    value = extract_cell_value(row.cells[i+1])\n",
    "                    \n",
    "                    if len(key) != 1:\n",
    "                        if key == value:\n",
    "                            continue\n",
    "                    key = key[0]\n",
    "                    \n",
    "                    table_data[key] = value\n",
    "                    print(key, '\\n', value, '\\n')\n",
    "        all_data.append(table_data)\n",
    "\n",
    "    print('Paragraphs:')\n",
    "    for paragraph in doc.paragraphs:\n",
    "        for run in paragraph.runs:\n",
    "            print(run.text)\n",
    "    \n",
    "    return all_data\n",
    "\n",
    "def save_dict_to_json(data, json_path):\n",
    "    with open(json_path, 'w', encoding='utf-8') as f:\n",
    "        json.dump(data, f, ensure_ascii=False, indent=4)\n",
    "\n",
    "doc_path = f'results/pdf2docx_{file_name}.docx'\n",
    "json_path = f'results/pdf2docx_{file_name}.json'\n",
    "data = doc_tables_to_dict(doc_path)\n",
    "save_dict_to_json(data, json_path)\n",
    "\n",
    "print(\"Finish parsing key-value pair\")"
   ]
  }
 ],
 "metadata": {
  "kernelspec": {
   "display_name": "ai-longtermcare",
   "language": "python",
   "name": "python3"
  },
  "language_info": {
   "codemirror_mode": {
    "name": "ipython",
    "version": 3
   },
   "file_extension": ".py",
   "mimetype": "text/x-python",
   "name": "python",
   "nbconvert_exporter": "python",
   "pygments_lexer": "ipython3",
   "version": "3.11.0"
  }
 },
 "nbformat": 4,
 "nbformat_minor": 2
}
